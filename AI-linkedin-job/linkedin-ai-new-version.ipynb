{
 "cells": [
  {
   "cell_type": "markdown",
   "metadata": {
    "id": "9k-mEcs_OR9y"
   },
   "source": [
    "# Install Resource Library"
   ]
  },
  {
   "cell_type": "code",
   "execution_count": 2,
   "metadata": {
    "_kg_hide-output": true,
    "colab": {
     "base_uri": "https://localhost:8080/"
    },
    "execution": {
     "iopub.execute_input": "2025-03-18T04:24:55.493936Z",
     "iopub.status.busy": "2025-03-18T04:24:55.493609Z",
     "iopub.status.idle": "2025-03-18T04:25:32.634698Z",
     "shell.execute_reply": "2025-03-18T04:25:32.633577Z",
     "shell.execute_reply.started": "2025-03-18T04:24:55.493910Z"
    },
    "executionInfo": {
     "elapsed": 42445,
     "status": "ok",
     "timestamp": 1739958246054,
     "user": {
      "displayName": "hang tai",
      "userId": "02398878970289659204"
     },
     "user_tz": -420
    },
    "id": "grde-m5dOP4O",
    "outputId": "872fcb46-ecc3-49d7-9dca-7d0651c27428",
    "trusted": true
   },
   "outputs": [
    {
     "name": "stdout",
     "output_type": "stream",
     "text": [
      "\u001b[2K   \u001b[90m━━━━━━━━━━━━━━━━━━━━━━━━━━━━━━━━━━━━━━━━\u001b[0m \u001b[32m60.9/60.9 kB\u001b[0m \u001b[31m2.7 MB/s\u001b[0m eta \u001b[36m0:00:00\u001b[0m\n",
      "\u001b[2K   \u001b[90m━━━━━━━━━━━━━━━━━━━━━━━━━━━━━━━━━━━━━━━━\u001b[0m \u001b[32m415.9/415.9 kB\u001b[0m \u001b[31m13.2 MB/s\u001b[0m eta \u001b[36m0:00:00\u001b[0m\n",
      "\u001b[2K   \u001b[90m━━━━━━━━━━━━━━━━━━━━━━━━━━━━━━━━━━━━━━━━\u001b[0m \u001b[32m567.4/567.4 kB\u001b[0m \u001b[31m27.7 MB/s\u001b[0m eta \u001b[36m0:00:00\u001b[0m\n",
      "\u001b[?25h\u001b[31mERROR: pip's dependency resolver does not currently take into account all the packages that are installed. This behaviour is the source of the following dependency conflicts.\n",
      "langchain 0.3.12 requires async-timeout<5.0.0,>=4.0.0; python_version < \"3.11\", but you have async-timeout 5.0.1 which is incompatible.\u001b[0m\u001b[31m\n",
      "\u001b[0mCollecting langchain-groq\n",
      "  Downloading langchain_groq-0.2.5-py3-none-any.whl.metadata (2.6 kB)\n",
      "Requirement already satisfied: langchain-core<1.0.0,>=0.3.42 in /usr/local/lib/python3.10/dist-packages (from langchain-groq) (0.3.45)\n",
      "Collecting groq<1,>=0.4.1 (from langchain-groq)\n",
      "  Downloading groq-0.19.0-py3-none-any.whl.metadata (15 kB)\n",
      "Requirement already satisfied: anyio<5,>=3.5.0 in /usr/local/lib/python3.10/dist-packages (from groq<1,>=0.4.1->langchain-groq) (3.7.1)\n",
      "Requirement already satisfied: distro<2,>=1.7.0 in /usr/local/lib/python3.10/dist-packages (from groq<1,>=0.4.1->langchain-groq) (1.9.0)\n",
      "Requirement already satisfied: httpx<1,>=0.23.0 in /usr/local/lib/python3.10/dist-packages (from groq<1,>=0.4.1->langchain-groq) (0.28.1)\n",
      "Requirement already satisfied: pydantic<3,>=1.9.0 in /usr/local/lib/python3.10/dist-packages (from groq<1,>=0.4.1->langchain-groq) (2.11.0a2)\n",
      "Requirement already satisfied: sniffio in /usr/local/lib/python3.10/dist-packages (from groq<1,>=0.4.1->langchain-groq) (1.3.1)\n",
      "Requirement already satisfied: typing-extensions<5,>=4.10 in /usr/local/lib/python3.10/dist-packages (from groq<1,>=0.4.1->langchain-groq) (4.12.2)\n",
      "Requirement already satisfied: langsmith<0.4,>=0.1.125 in /usr/local/lib/python3.10/dist-packages (from langchain-core<1.0.0,>=0.3.42->langchain-groq) (0.2.3)\n",
      "Requirement already satisfied: tenacity!=8.4.0,<10.0.0,>=8.1.0 in /usr/local/lib/python3.10/dist-packages (from langchain-core<1.0.0,>=0.3.42->langchain-groq) (9.0.0)\n",
      "Requirement already satisfied: jsonpatch<2.0,>=1.33 in /usr/local/lib/python3.10/dist-packages (from langchain-core<1.0.0,>=0.3.42->langchain-groq) (1.33)\n",
      "Requirement already satisfied: PyYAML>=5.3 in /usr/local/lib/python3.10/dist-packages (from langchain-core<1.0.0,>=0.3.42->langchain-groq) (6.0.2)\n",
      "Requirement already satisfied: packaging<25,>=23.2 in /usr/local/lib/python3.10/dist-packages (from langchain-core<1.0.0,>=0.3.42->langchain-groq) (24.2)\n",
      "Requirement already satisfied: idna>=2.8 in /usr/local/lib/python3.10/dist-packages (from anyio<5,>=3.5.0->groq<1,>=0.4.1->langchain-groq) (3.10)\n",
      "Requirement already satisfied: exceptiongroup in /usr/local/lib/python3.10/dist-packages (from anyio<5,>=3.5.0->groq<1,>=0.4.1->langchain-groq) (1.2.2)\n",
      "Requirement already satisfied: certifi in /usr/local/lib/python3.10/dist-packages (from httpx<1,>=0.23.0->groq<1,>=0.4.1->langchain-groq) (2025.1.31)\n",
      "Requirement already satisfied: httpcore==1.* in /usr/local/lib/python3.10/dist-packages (from httpx<1,>=0.23.0->groq<1,>=0.4.1->langchain-groq) (1.0.7)\n",
      "Requirement already satisfied: h11<0.15,>=0.13 in /usr/local/lib/python3.10/dist-packages (from httpcore==1.*->httpx<1,>=0.23.0->groq<1,>=0.4.1->langchain-groq) (0.14.0)\n",
      "Requirement already satisfied: jsonpointer>=1.9 in /usr/local/lib/python3.10/dist-packages (from jsonpatch<2.0,>=1.33->langchain-core<1.0.0,>=0.3.42->langchain-groq) (3.0.0)\n",
      "Requirement already satisfied: orjson<4.0.0,>=3.9.14 in /usr/local/lib/python3.10/dist-packages (from langsmith<0.4,>=0.1.125->langchain-core<1.0.0,>=0.3.42->langchain-groq) (3.10.12)\n",
      "Requirement already satisfied: requests<3,>=2 in /usr/local/lib/python3.10/dist-packages (from langsmith<0.4,>=0.1.125->langchain-core<1.0.0,>=0.3.42->langchain-groq) (2.32.3)\n",
      "Requirement already satisfied: requests-toolbelt<2.0.0,>=1.0.0 in /usr/local/lib/python3.10/dist-packages (from langsmith<0.4,>=0.1.125->langchain-core<1.0.0,>=0.3.42->langchain-groq) (1.0.0)\n",
      "Requirement already satisfied: annotated-types>=0.6.0 in /usr/local/lib/python3.10/dist-packages (from pydantic<3,>=1.9.0->groq<1,>=0.4.1->langchain-groq) (0.7.0)\n",
      "Requirement already satisfied: pydantic-core==2.29.0 in /usr/local/lib/python3.10/dist-packages (from pydantic<3,>=1.9.0->groq<1,>=0.4.1->langchain-groq) (2.29.0)\n",
      "Requirement already satisfied: charset-normalizer<4,>=2 in /usr/local/lib/python3.10/dist-packages (from requests<3,>=2->langsmith<0.4,>=0.1.125->langchain-core<1.0.0,>=0.3.42->langchain-groq) (3.4.1)\n",
      "Requirement already satisfied: urllib3<3,>=1.21.1 in /usr/local/lib/python3.10/dist-packages (from requests<3,>=2->langsmith<0.4,>=0.1.125->langchain-core<1.0.0,>=0.3.42->langchain-groq) (2.3.0)\n",
      "Downloading langchain_groq-0.2.5-py3-none-any.whl (15 kB)\n",
      "Downloading groq-0.19.0-py3-none-any.whl (122 kB)\n",
      "\u001b[2K   \u001b[90m━━━━━━━━━━━━━━━━━━━━━━━━━━━━━━━━━━━━━━━━\u001b[0m \u001b[32m122.2/122.2 kB\u001b[0m \u001b[31m4.8 MB/s\u001b[0m eta \u001b[36m0:00:00\u001b[0m\n",
      "\u001b[?25hInstalling collected packages: groq, langchain-groq\n",
      "Successfully installed groq-0.19.0 langchain-groq-0.2.5\n",
      "Collecting pymysql\n",
      "  Downloading PyMySQL-1.1.1-py3-none-any.whl.metadata (4.4 kB)\n",
      "Downloading PyMySQL-1.1.1-py3-none-any.whl (44 kB)\n",
      "\u001b[2K   \u001b[90m━━━━━━━━━━━━━━━━━━━━━━━━━━━━━━━━━━━━━━━━\u001b[0m \u001b[32m45.0/45.0 kB\u001b[0m \u001b[31m2.1 MB/s\u001b[0m eta \u001b[36m0:00:00\u001b[0m\n",
      "\u001b[?25hInstalling collected packages: pymysql\n",
      "Successfully installed pymysql-1.1.1\n",
      "Requirement already satisfied: cryptography in /usr/local/lib/python3.10/dist-packages (44.0.1)\n",
      "Requirement already satisfied: cffi>=1.12 in /usr/local/lib/python3.10/dist-packages (from cryptography) (1.17.1)\n",
      "Requirement already satisfied: pycparser in /usr/local/lib/python3.10/dist-packages (from cffi>=1.12->cryptography) (2.22)\n",
      "Collecting langchain_community\n",
      "  Downloading langchain_community-0.3.19-py3-none-any.whl.metadata (2.4 kB)\n",
      "Requirement already satisfied: langchain-core<1.0.0,>=0.3.41 in /usr/local/lib/python3.10/dist-packages (from langchain_community) (0.3.45)\n",
      "Collecting langchain<1.0.0,>=0.3.20 (from langchain_community)\n",
      "  Downloading langchain-0.3.20-py3-none-any.whl.metadata (7.7 kB)\n",
      "Requirement already satisfied: SQLAlchemy<3,>=1.4 in /usr/local/lib/python3.10/dist-packages (from langchain_community) (2.0.36)\n",
      "Requirement already satisfied: requests<3,>=2 in /usr/local/lib/python3.10/dist-packages (from langchain_community) (2.32.3)\n",
      "Requirement already satisfied: PyYAML>=5.3 in /usr/local/lib/python3.10/dist-packages (from langchain_community) (6.0.2)\n",
      "Requirement already satisfied: aiohttp<4.0.0,>=3.8.3 in /usr/local/lib/python3.10/dist-packages (from langchain_community) (3.11.12)\n",
      "Requirement already satisfied: tenacity!=8.4.0,<10,>=8.1.0 in /usr/local/lib/python3.10/dist-packages (from langchain_community) (9.0.0)\n",
      "Requirement already satisfied: dataclasses-json<0.7,>=0.5.7 in /usr/local/lib/python3.10/dist-packages (from langchain_community) (0.6.7)\n",
      "Collecting pydantic-settings<3.0.0,>=2.4.0 (from langchain_community)\n",
      "  Downloading pydantic_settings-2.8.1-py3-none-any.whl.metadata (3.5 kB)\n",
      "Requirement already satisfied: langsmith<0.4,>=0.1.125 in /usr/local/lib/python3.10/dist-packages (from langchain_community) (0.2.3)\n",
      "Collecting httpx-sse<1.0.0,>=0.4.0 (from langchain_community)\n",
      "  Downloading httpx_sse-0.4.0-py3-none-any.whl.metadata (9.0 kB)\n",
      "Requirement already satisfied: numpy<3,>=1.26.2 in /usr/local/lib/python3.10/dist-packages (from langchain_community) (1.26.4)\n",
      "Requirement already satisfied: aiohappyeyeballs>=2.3.0 in /usr/local/lib/python3.10/dist-packages (from aiohttp<4.0.0,>=3.8.3->langchain_community) (2.4.6)\n",
      "Requirement already satisfied: aiosignal>=1.1.2 in /usr/local/lib/python3.10/dist-packages (from aiohttp<4.0.0,>=3.8.3->langchain_community) (1.3.2)\n",
      "Requirement already satisfied: async-timeout<6.0,>=4.0 in /usr/local/lib/python3.10/dist-packages (from aiohttp<4.0.0,>=3.8.3->langchain_community) (5.0.1)\n",
      "Requirement already satisfied: attrs>=17.3.0 in /usr/local/lib/python3.10/dist-packages (from aiohttp<4.0.0,>=3.8.3->langchain_community) (25.1.0)\n",
      "Requirement already satisfied: frozenlist>=1.1.1 in /usr/local/lib/python3.10/dist-packages (from aiohttp<4.0.0,>=3.8.3->langchain_community) (1.5.0)\n",
      "Requirement already satisfied: multidict<7.0,>=4.5 in /usr/local/lib/python3.10/dist-packages (from aiohttp<4.0.0,>=3.8.3->langchain_community) (6.1.0)\n",
      "Requirement already satisfied: propcache>=0.2.0 in /usr/local/lib/python3.10/dist-packages (from aiohttp<4.0.0,>=3.8.3->langchain_community) (0.2.1)\n",
      "Requirement already satisfied: yarl<2.0,>=1.17.0 in /usr/local/lib/python3.10/dist-packages (from aiohttp<4.0.0,>=3.8.3->langchain_community) (1.18.3)\n",
      "Requirement already satisfied: marshmallow<4.0.0,>=3.18.0 in /usr/local/lib/python3.10/dist-packages (from dataclasses-json<0.7,>=0.5.7->langchain_community) (3.26.1)\n",
      "Requirement already satisfied: typing-inspect<1,>=0.4.0 in /usr/local/lib/python3.10/dist-packages (from dataclasses-json<0.7,>=0.5.7->langchain_community) (0.9.0)\n",
      "Collecting langchain-text-splitters<1.0.0,>=0.3.6 (from langchain<1.0.0,>=0.3.20->langchain_community)\n",
      "  Downloading langchain_text_splitters-0.3.6-py3-none-any.whl.metadata (1.9 kB)\n",
      "Requirement already satisfied: pydantic<3.0.0,>=2.7.4 in /usr/local/lib/python3.10/dist-packages (from langchain<1.0.0,>=0.3.20->langchain_community) (2.11.0a2)\n",
      "Collecting async-timeout<6.0,>=4.0 (from aiohttp<4.0.0,>=3.8.3->langchain_community)\n",
      "  Downloading async_timeout-4.0.3-py3-none-any.whl.metadata (4.2 kB)\n",
      "Requirement already satisfied: jsonpatch<2.0,>=1.33 in /usr/local/lib/python3.10/dist-packages (from langchain-core<1.0.0,>=0.3.41->langchain_community) (1.33)\n",
      "Requirement already satisfied: packaging<25,>=23.2 in /usr/local/lib/python3.10/dist-packages (from langchain-core<1.0.0,>=0.3.41->langchain_community) (24.2)\n",
      "Requirement already satisfied: typing-extensions>=4.7 in /usr/local/lib/python3.10/dist-packages (from langchain-core<1.0.0,>=0.3.41->langchain_community) (4.12.2)\n",
      "Requirement already satisfied: httpx<1,>=0.23.0 in /usr/local/lib/python3.10/dist-packages (from langsmith<0.4,>=0.1.125->langchain_community) (0.28.1)\n",
      "Requirement already satisfied: orjson<4.0.0,>=3.9.14 in /usr/local/lib/python3.10/dist-packages (from langsmith<0.4,>=0.1.125->langchain_community) (3.10.12)\n",
      "Requirement already satisfied: requests-toolbelt<2.0.0,>=1.0.0 in /usr/local/lib/python3.10/dist-packages (from langsmith<0.4,>=0.1.125->langchain_community) (1.0.0)\n",
      "Requirement already satisfied: mkl_fft in /usr/local/lib/python3.10/dist-packages (from numpy<3,>=1.26.2->langchain_community) (1.3.8)\n",
      "Requirement already satisfied: mkl_random in /usr/local/lib/python3.10/dist-packages (from numpy<3,>=1.26.2->langchain_community) (1.2.4)\n",
      "Requirement already satisfied: mkl_umath in /usr/local/lib/python3.10/dist-packages (from numpy<3,>=1.26.2->langchain_community) (0.1.1)\n",
      "Requirement already satisfied: mkl in /usr/local/lib/python3.10/dist-packages (from numpy<3,>=1.26.2->langchain_community) (2025.0.1)\n",
      "Requirement already satisfied: tbb4py in /usr/local/lib/python3.10/dist-packages (from numpy<3,>=1.26.2->langchain_community) (2022.0.0)\n",
      "Requirement already satisfied: mkl-service in /usr/local/lib/python3.10/dist-packages (from numpy<3,>=1.26.2->langchain_community) (2.4.1)\n",
      "Collecting python-dotenv>=0.21.0 (from pydantic-settings<3.0.0,>=2.4.0->langchain_community)\n",
      "  Downloading python_dotenv-1.0.1-py3-none-any.whl.metadata (23 kB)\n",
      "Requirement already satisfied: charset-normalizer<4,>=2 in /usr/local/lib/python3.10/dist-packages (from requests<3,>=2->langchain_community) (3.4.1)\n",
      "Requirement already satisfied: idna<4,>=2.5 in /usr/local/lib/python3.10/dist-packages (from requests<3,>=2->langchain_community) (3.10)\n",
      "Requirement already satisfied: urllib3<3,>=1.21.1 in /usr/local/lib/python3.10/dist-packages (from requests<3,>=2->langchain_community) (2.3.0)\n",
      "Requirement already satisfied: certifi>=2017.4.17 in /usr/local/lib/python3.10/dist-packages (from requests<3,>=2->langchain_community) (2025.1.31)\n",
      "Requirement already satisfied: greenlet!=0.4.17 in /usr/local/lib/python3.10/dist-packages (from SQLAlchemy<3,>=1.4->langchain_community) (3.1.1)\n",
      "Requirement already satisfied: anyio in /usr/local/lib/python3.10/dist-packages (from httpx<1,>=0.23.0->langsmith<0.4,>=0.1.125->langchain_community) (3.7.1)\n",
      "Requirement already satisfied: httpcore==1.* in /usr/local/lib/python3.10/dist-packages (from httpx<1,>=0.23.0->langsmith<0.4,>=0.1.125->langchain_community) (1.0.7)\n",
      "Requirement already satisfied: h11<0.15,>=0.13 in /usr/local/lib/python3.10/dist-packages (from httpcore==1.*->httpx<1,>=0.23.0->langsmith<0.4,>=0.1.125->langchain_community) (0.14.0)\n",
      "Requirement already satisfied: jsonpointer>=1.9 in /usr/local/lib/python3.10/dist-packages (from jsonpatch<2.0,>=1.33->langchain-core<1.0.0,>=0.3.41->langchain_community) (3.0.0)\n",
      "Requirement already satisfied: annotated-types>=0.6.0 in /usr/local/lib/python3.10/dist-packages (from pydantic<3.0.0,>=2.7.4->langchain<1.0.0,>=0.3.20->langchain_community) (0.7.0)\n",
      "Requirement already satisfied: pydantic-core==2.29.0 in /usr/local/lib/python3.10/dist-packages (from pydantic<3.0.0,>=2.7.4->langchain<1.0.0,>=0.3.20->langchain_community) (2.29.0)\n",
      "Requirement already satisfied: mypy-extensions>=0.3.0 in /usr/local/lib/python3.10/dist-packages (from typing-inspect<1,>=0.4.0->dataclasses-json<0.7,>=0.5.7->langchain_community) (1.0.0)\n",
      "Requirement already satisfied: intel-openmp>=2024 in /usr/local/lib/python3.10/dist-packages (from mkl->numpy<3,>=1.26.2->langchain_community) (2024.2.0)\n",
      "Requirement already satisfied: tbb==2022.* in /usr/local/lib/python3.10/dist-packages (from mkl->numpy<3,>=1.26.2->langchain_community) (2022.0.0)\n",
      "Requirement already satisfied: tcmlib==1.* in /usr/local/lib/python3.10/dist-packages (from tbb==2022.*->mkl->numpy<3,>=1.26.2->langchain_community) (1.2.0)\n",
      "Requirement already satisfied: intel-cmplr-lib-rt in /usr/local/lib/python3.10/dist-packages (from mkl_umath->numpy<3,>=1.26.2->langchain_community) (2024.2.0)\n",
      "Requirement already satisfied: intel-cmplr-lib-ur==2024.2.0 in /usr/local/lib/python3.10/dist-packages (from intel-openmp>=2024->mkl->numpy<3,>=1.26.2->langchain_community) (2024.2.0)\n",
      "Requirement already satisfied: sniffio>=1.1 in /usr/local/lib/python3.10/dist-packages (from anyio->httpx<1,>=0.23.0->langsmith<0.4,>=0.1.125->langchain_community) (1.3.1)\n",
      "Requirement already satisfied: exceptiongroup in /usr/local/lib/python3.10/dist-packages (from anyio->httpx<1,>=0.23.0->langsmith<0.4,>=0.1.125->langchain_community) (1.2.2)\n",
      "Downloading langchain_community-0.3.19-py3-none-any.whl (2.5 MB)\n",
      "\u001b[2K   \u001b[90m━━━━━━━━━━━━━━━━━━━━━━━━━━━━━━━━━━━━━━━━\u001b[0m \u001b[32m2.5/2.5 MB\u001b[0m \u001b[31m33.6 MB/s\u001b[0m eta \u001b[36m0:00:00\u001b[0m00:01\u001b[0m00:01\u001b[0m\n",
      "\u001b[?25hDownloading httpx_sse-0.4.0-py3-none-any.whl (7.8 kB)\n",
      "Downloading langchain-0.3.20-py3-none-any.whl (1.0 MB)\n",
      "\u001b[2K   \u001b[90m━━━━━━━━━━━━━━━━━━━━━━━━━━━━━━━━━━━━━━━━\u001b[0m \u001b[32m1.0/1.0 MB\u001b[0m \u001b[31m55.1 MB/s\u001b[0m eta \u001b[36m0:00:00\u001b[0m\n",
      "\u001b[?25hDownloading pydantic_settings-2.8.1-py3-none-any.whl (30 kB)\n",
      "Downloading async_timeout-4.0.3-py3-none-any.whl (5.7 kB)\n",
      "Downloading langchain_text_splitters-0.3.6-py3-none-any.whl (31 kB)\n",
      "Downloading python_dotenv-1.0.1-py3-none-any.whl (19 kB)\n",
      "Installing collected packages: python-dotenv, httpx-sse, async-timeout, pydantic-settings, langchain-text-splitters, langchain, langchain_community\n",
      "  Attempting uninstall: async-timeout\n",
      "    Found existing installation: async-timeout 5.0.1\n",
      "    Uninstalling async-timeout-5.0.1:\n",
      "      Successfully uninstalled async-timeout-5.0.1\n",
      "  Attempting uninstall: langchain-text-splitters\n",
      "    Found existing installation: langchain-text-splitters 0.3.3\n",
      "    Uninstalling langchain-text-splitters-0.3.3:\n",
      "      Successfully uninstalled langchain-text-splitters-0.3.3\n",
      "  Attempting uninstall: langchain\n",
      "    Found existing installation: langchain 0.3.12\n",
      "    Uninstalling langchain-0.3.12:\n",
      "      Successfully uninstalled langchain-0.3.12\n",
      "\u001b[31mERROR: pip's dependency resolver does not currently take into account all the packages that are installed. This behaviour is the source of the following dependency conflicts.\n",
      "gcsfs 2024.10.0 requires fsspec==2024.10.0, but you have fsspec 2024.12.0 which is incompatible.\u001b[0m\u001b[31m\n",
      "\u001b[0mSuccessfully installed async-timeout-4.0.3 httpx-sse-0.4.0 langchain-0.3.20 langchain-text-splitters-0.3.6 langchain_community-0.3.19 pydantic-settings-2.8.1 python-dotenv-1.0.1\n",
      "Collecting faiss-cpu\n",
      "  Downloading faiss_cpu-1.10.0-cp310-cp310-manylinux_2_28_x86_64.whl.metadata (4.4 kB)\n",
      "Requirement already satisfied: numpy<3.0,>=1.25.0 in /usr/local/lib/python3.10/dist-packages (from faiss-cpu) (1.26.4)\n",
      "Requirement already satisfied: packaging in /usr/local/lib/python3.10/dist-packages (from faiss-cpu) (24.2)\n",
      "Requirement already satisfied: mkl_fft in /usr/local/lib/python3.10/dist-packages (from numpy<3.0,>=1.25.0->faiss-cpu) (1.3.8)\n",
      "Requirement already satisfied: mkl_random in /usr/local/lib/python3.10/dist-packages (from numpy<3.0,>=1.25.0->faiss-cpu) (1.2.4)\n",
      "Requirement already satisfied: mkl_umath in /usr/local/lib/python3.10/dist-packages (from numpy<3.0,>=1.25.0->faiss-cpu) (0.1.1)\n",
      "Requirement already satisfied: mkl in /usr/local/lib/python3.10/dist-packages (from numpy<3.0,>=1.25.0->faiss-cpu) (2025.0.1)\n",
      "Requirement already satisfied: tbb4py in /usr/local/lib/python3.10/dist-packages (from numpy<3.0,>=1.25.0->faiss-cpu) (2022.0.0)\n",
      "Requirement already satisfied: mkl-service in /usr/local/lib/python3.10/dist-packages (from numpy<3.0,>=1.25.0->faiss-cpu) (2.4.1)\n",
      "Requirement already satisfied: intel-openmp>=2024 in /usr/local/lib/python3.10/dist-packages (from mkl->numpy<3.0,>=1.25.0->faiss-cpu) (2024.2.0)\n",
      "Requirement already satisfied: tbb==2022.* in /usr/local/lib/python3.10/dist-packages (from mkl->numpy<3.0,>=1.25.0->faiss-cpu) (2022.0.0)\n",
      "Requirement already satisfied: tcmlib==1.* in /usr/local/lib/python3.10/dist-packages (from tbb==2022.*->mkl->numpy<3.0,>=1.25.0->faiss-cpu) (1.2.0)\n",
      "Requirement already satisfied: intel-cmplr-lib-rt in /usr/local/lib/python3.10/dist-packages (from mkl_umath->numpy<3.0,>=1.25.0->faiss-cpu) (2024.2.0)\n",
      "Requirement already satisfied: intel-cmplr-lib-ur==2024.2.0 in /usr/local/lib/python3.10/dist-packages (from intel-openmp>=2024->mkl->numpy<3.0,>=1.25.0->faiss-cpu) (2024.2.0)\n",
      "Downloading faiss_cpu-1.10.0-cp310-cp310-manylinux_2_28_x86_64.whl (30.7 MB)\n",
      "\u001b[2K   \u001b[90m━━━━━━━━━━━━━━━━━━━━━━━━━━━━━━━━━━━━━━━━\u001b[0m \u001b[32m30.7/30.7 MB\u001b[0m \u001b[31m58.2 MB/s\u001b[0m eta \u001b[36m0:00:00\u001b[0m:00:01\u001b[0m00:01\u001b[0m\n",
      "\u001b[?25hInstalling collected packages: faiss-cpu\n",
      "Successfully installed faiss-cpu-1.10.0\n",
      "Requirement already satisfied: boto3 in /usr/local/lib/python3.10/dist-packages (1.36.23)\n",
      "Requirement already satisfied: botocore<1.37.0,>=1.36.23 in /usr/local/lib/python3.10/dist-packages (from boto3) (1.36.23)\n",
      "Requirement already satisfied: jmespath<2.0.0,>=0.7.1 in /usr/local/lib/python3.10/dist-packages (from boto3) (1.0.1)\n",
      "Requirement already satisfied: s3transfer<0.12.0,>=0.11.0 in /usr/local/lib/python3.10/dist-packages (from boto3) (0.11.2)\n",
      "Requirement already satisfied: python-dateutil<3.0.0,>=2.1 in /usr/local/lib/python3.10/dist-packages (from botocore<1.37.0,>=1.36.23->boto3) (2.9.0.post0)\n",
      "Requirement already satisfied: urllib3!=2.2.0,<3,>=1.25.4 in /usr/local/lib/python3.10/dist-packages (from botocore<1.37.0,>=1.36.23->boto3) (2.3.0)\n",
      "Requirement already satisfied: six>=1.5 in /usr/local/lib/python3.10/dist-packages (from python-dateutil<3.0.0,>=2.1->botocore<1.37.0,>=1.36.23->boto3) (1.17.0)\n"
     ]
    }
   ],
   "source": [
    "!pip install langchain-core langgraph>0.2.27\n",
    "!pip install -qU langchain-openai\n",
    "!pip install langchain-groq\n",
    "!pip install pymysql\n",
    "!pip install cryptography\n",
    "!pip install langchain_community\n",
    "!pip install faiss-cpu\n",
    "!pip install boto3\n",
    "!pip install rank_bm25"
   ]
  },
  {
   "cell_type": "markdown",
   "metadata": {
    "id": "9SHnBaEROW8T"
   },
   "source": [
    "# Import Library"
   ]
  },
  {
   "cell_type": "code",
   "execution_count": null,
   "metadata": {
    "execution": {
     "iopub.execute_input": "2025-03-18T04:56:45.992970Z",
     "iopub.status.busy": "2025-03-18T04:56:45.992650Z",
     "iopub.status.idle": "2025-03-18T04:56:45.998226Z",
     "shell.execute_reply": "2025-03-18T04:56:45.997249Z",
     "shell.execute_reply.started": "2025-03-18T04:56:45.992941Z"
    },
    "id": "cJqzJhNtOZNa",
    "trusted": true
   },
   "outputs": [],
   "source": [
    "# Utilization\n",
    "import os\n",
    "from typing_extensions import Annotated, TypedDict\n",
    "from typing import Sequence, Literal, Optional, Dict, Any\n",
    "from io import StringIO  # read file from s3\n",
    "import pandas as pd\n",
    "# LangChain\n",
    "from langchain_groq import ChatGroq\n",
    "from langchain_core.prompts import ChatPromptTemplate\n",
    "from langchain.prompts import PromptTemplate\n",
    "# S3 Object AWS\n",
    "import boto3\n",
    "# Document and Splitter\n",
    "from langchain_core.documents import Document\n",
    "from langchain.text_splitter import RecursiveCharacterTextSplitter\n",
    "# Huggingface Embeddings\n",
    "from langchain_community.embeddings import HuggingFaceEmbeddings\n",
    "# Hybrid search to enhance semantic search\n",
    "from langchain_community.retrievers import BM25Retriever\n",
    "from langchain.retrievers import EnsembleRetriever\n",
    "# Vector Store\n",
    "from langchain_community.vectorstores import FAISS\n",
    "# QNA\n",
    "from langchain.chains import RetrievalQA\n",
    "# GPU\n",
    "import torch\n",
    "# kaggle secrets key\n",
    "from kaggle_secrets import UserSecretsClient"
   ]
  },
  {
   "cell_type": "markdown",
   "metadata": {
    "id": "18U6jUUZOe9z"
   },
   "source": [
    "# LangSmith set up to track process"
   ]
  },
  {
   "cell_type": "code",
   "execution_count": 40,
   "metadata": {
    "execution": {
     "iopub.execute_input": "2025-03-18T04:58:25.046918Z",
     "iopub.status.busy": "2025-03-18T04:58:25.046576Z",
     "iopub.status.idle": "2025-03-18T04:58:25.433933Z",
     "shell.execute_reply": "2025-03-18T04:58:25.433287Z",
     "shell.execute_reply.started": "2025-03-18T04:58:25.046892Z"
    },
    "id": "rT4tqLTsSjRK",
    "trusted": true
   },
   "outputs": [],
   "source": [
    "# Define API KEY for GROQ, AWS credentials\n",
    "user_secrets = UserSecretsClient()\n",
    "os.environ[\"AWS_ACCESS_KEY_ID\"] = user_secrets.get_secret(\"AWS_ACCESS_KEY_ID\")\n",
    "os.environ[\"AWS_SECRET_ACCESS_KEY\"] = user_secrets.get_secret(\"AWS_SECRET_ACCESS_KEY\")\n",
    "os.environ[\"GROQ_API_KEY\"]= user_secrets.get_secret(\"GROQ_API_KEY\")\n",
    "os.environ[\"S3_BUCKET_JOB\"] = user_secrets.get_secret(\"S3_BUCKET_JOB\")"
   ]
  },
  {
   "cell_type": "code",
   "execution_count": 41,
   "metadata": {
    "execution": {
     "iopub.execute_input": "2025-03-18T04:58:27.011842Z",
     "iopub.status.busy": "2025-03-18T04:58:27.011534Z",
     "iopub.status.idle": "2025-03-18T04:58:27.116095Z",
     "shell.execute_reply": "2025-03-18T04:58:27.115504Z",
     "shell.execute_reply.started": "2025-03-18T04:58:27.011818Z"
    },
    "trusted": true
   },
   "outputs": [],
   "source": [
    "# Define model chatbot\n",
    "llm = ChatGroq(temperature=0, \n",
    "               model_name=\"mistral-saba-24b\", # model name\n",
    "              max_tokens=2048, # limit the length of response\n",
    "              streaming=True, # enable streaming response\n",
    "              max_retries=2 # enhance call back for the program\n",
    "            )"
   ]
  },
  {
   "cell_type": "code",
   "execution_count": 42,
   "metadata": {
    "colab": {
     "base_uri": "https://localhost:8080/"
    },
    "execution": {
     "iopub.execute_input": "2025-03-18T04:58:28.614701Z",
     "iopub.status.busy": "2025-03-18T04:58:28.614408Z",
     "iopub.status.idle": "2025-03-18T04:58:29.371757Z",
     "shell.execute_reply": "2025-03-18T04:58:29.371047Z",
     "shell.execute_reply.started": "2025-03-18T04:58:28.614679Z"
    },
    "executionInfo": {
     "elapsed": 289,
     "status": "ok",
     "timestamp": 1739093130505,
     "user": {
      "displayName": "hang tai",
      "userId": "02398878970289659204"
     },
     "user_tz": -420
    },
    "id": "dlN0xKmsAIgk",
    "outputId": "95abf2e5-257d-4adf-af77-f0e1e109d1cc",
    "trusted": true
   },
   "outputs": [
    {
     "data": {
      "text/plain": [
       "AIMessage(content='Ho Chi Minh City, formerly known as Saigon, is located in the southern region of Vietnam. It is the largest city in the country and serves as its economic hub. Here are some geographical details:\\n\\n- **Country**: Vietnam\\n- **Region**: Southern Vietnam\\n- **Coordinates**: Approximately 10.8503° N, 106.6880° E\\n- **Nearest Major Landmarks**: The city is situated along the Saigon River, which flows into the Mekong River Delta.\\n\\nHo Chi Minh City is known for its vibrant culture, bustling markets, and historical sites, including the Reunification Palace and the War Remnants Museum. It is a major economic center and a popular destination for both business and tourism.', additional_kwargs={}, response_metadata={'finish_reason': 'stop'}, id='run-74ea9d77-f1c3-42ef-a5df-e7c0939aa810-0', usage_metadata={'input_tokens': 20, 'output_tokens': 158, 'total_tokens': 178})"
      ]
     },
     "execution_count": 42,
     "metadata": {},
     "output_type": "execute_result"
    }
   ],
   "source": [
    "# test llm connection\n",
    "system = \"You are a helpful assistant.\"\n",
    "human = \"{text}\"\n",
    "prompt = ChatPromptTemplate.from_messages([(\"system\", system), (\"human\", human)])\n",
    "\n",
    "chain = prompt | llm\n",
    "chain.invoke({\"text\": \"Where is Ho Chi Minh CIty located.\"})"
   ]
  },
  {
   "cell_type": "code",
   "execution_count": 9,
   "metadata": {
    "colab": {
     "base_uri": "https://localhost:8080/",
     "height": 424
    },
    "execution": {
     "iopub.execute_input": "2025-03-18T04:26:17.896740Z",
     "iopub.status.busy": "2025-03-18T04:26:17.896404Z",
     "iopub.status.idle": "2025-03-18T04:26:19.985542Z",
     "shell.execute_reply": "2025-03-18T04:26:19.984873Z",
     "shell.execute_reply.started": "2025-03-18T04:26:17.896713Z"
    },
    "executionInfo": {
     "elapsed": 9492,
     "status": "error",
     "timestamp": 1739959418000,
     "user": {
      "displayName": "hang tai",
      "userId": "02398878970289659204"
     },
     "user_tz": -420
    },
    "id": "EEcyRqjRB1Po",
    "outputId": "da97b4da-5bb9-44c7-a80e-3c2d8e78a344",
    "trusted": true
   },
   "outputs": [],
   "source": [
    "# Read file from s3 \n",
    "s3_client = boto3.client(\"s3\")\n",
    "response = s3_client.get_object(Bucket=os.environ[\"S3_BUCKET_JOB\"], Key = \"job_data.csv\")\n",
    "content = response[\"Body\"].read().decode(\"utf-8\")"
   ]
  },
  {
   "cell_type": "code",
   "execution_count": 10,
   "metadata": {
    "execution": {
     "iopub.execute_input": "2025-03-18T04:26:21.301856Z",
     "iopub.status.busy": "2025-03-18T04:26:21.301551Z",
     "iopub.status.idle": "2025-03-18T04:26:21.313250Z",
     "shell.execute_reply": "2025-03-18T04:26:21.312526Z",
     "shell.execute_reply.started": "2025-03-18T04:26:21.301831Z"
    },
    "trusted": true
   },
   "outputs": [],
   "source": [
    "# convert content into Data Frame\n",
    "df = pd.read_csv(StringIO(content))"
   ]
  },
  {
   "cell_type": "code",
   "execution_count": 11,
   "metadata": {
    "execution": {
     "iopub.execute_input": "2025-03-18T04:26:23.425967Z",
     "iopub.status.busy": "2025-03-18T04:26:23.425692Z",
     "iopub.status.idle": "2025-03-18T04:26:23.447832Z",
     "shell.execute_reply": "2025-03-18T04:26:23.447159Z",
     "shell.execute_reply.started": "2025-03-18T04:26:23.425946Z"
    },
    "trusted": true
   },
   "outputs": [
    {
     "data": {
      "text/html": [
       "<div>\n",
       "<style scoped>\n",
       "    .dataframe tbody tr th:only-of-type {\n",
       "        vertical-align: middle;\n",
       "    }\n",
       "\n",
       "    .dataframe tbody tr th {\n",
       "        vertical-align: top;\n",
       "    }\n",
       "\n",
       "    .dataframe thead th {\n",
       "        text-align: right;\n",
       "    }\n",
       "</style>\n",
       "<table border=\"1\" class=\"dataframe\">\n",
       "  <thead>\n",
       "    <tr style=\"text-align: right;\">\n",
       "      <th></th>\n",
       "      <th>job_title</th>\n",
       "      <th>company_name</th>\n",
       "      <th>job_location</th>\n",
       "      <th>job_time_posted</th>\n",
       "      <th>job_applicants_applied</th>\n",
       "      <th>job_role</th>\n",
       "      <th>job_details</th>\n",
       "    </tr>\n",
       "  </thead>\n",
       "  <tbody>\n",
       "    <tr>\n",
       "      <th>0</th>\n",
       "      <td>Data Engineer Intern</td>\n",
       "      <td>OPSWAT</td>\n",
       "      <td>Ho Chi Minh City, Vietnam</td>\n",
       "      <td>2 days ago</td>\n",
       "      <td>Over 100 applicants</td>\n",
       "      <td>On-site,Internship,0 of 10 skills match Requir...</td>\n",
       "      <td>The Position\\nWe are looking for an eager and ...</td>\n",
       "    </tr>\n",
       "    <tr>\n",
       "      <th>1</th>\n",
       "      <td>Data Engineer Intern</td>\n",
       "      <td>ActiveFence</td>\n",
       "      <td>Hanoi, Hanoi, Vietnam</td>\n",
       "      <td>5 days ago</td>\n",
       "      <td>70 people clicked apply</td>\n",
       "      <td>Hybrid,Internship</td>\n",
       "      <td>About the Role:\\nWe are seeking a motivated an...</td>\n",
       "    </tr>\n",
       "    <tr>\n",
       "      <th>2</th>\n",
       "      <td>Software Intern (Fullstack), Digital Business</td>\n",
       "      <td>VNG Corporation</td>\n",
       "      <td>Phường Chí Minh, Hai Duong, Vietnam</td>\n",
       "      <td>2 days ago</td>\n",
       "      <td>95 people clicked apply</td>\n",
       "      <td>On-site,Full-time</td>\n",
       "      <td>Mô tả công việc\\nAssist in full-stack web deve...</td>\n",
       "    </tr>\n",
       "    <tr>\n",
       "      <th>3</th>\n",
       "      <td>Technical Intern, SLT Data Application Engineer</td>\n",
       "      <td>Ampere</td>\n",
       "      <td>Ho Chi Minh City Metropolitan Area</td>\n",
       "      <td>2 weeks ago</td>\n",
       "      <td>41 people clicked apply</td>\n",
       "      <td>On-site,Internship</td>\n",
       "      <td>Description\\nInvent the future with us.\\nRecog...</td>\n",
       "    </tr>\n",
       "    <tr>\n",
       "      <th>4</th>\n",
       "      <td>Software Engineer Intern - QA</td>\n",
       "      <td>ShopBack</td>\n",
       "      <td>Ho Chi Minh City Metropolitan Area</td>\n",
       "      <td>Reposted 19 hours ago</td>\n",
       "      <td>Over 100 people clicked apply</td>\n",
       "      <td>Hybrid,Internship</td>\n",
       "      <td>Our Journey\\nShopBack started as a spark of in...</td>\n",
       "    </tr>\n",
       "  </tbody>\n",
       "</table>\n",
       "</div>"
      ],
      "text/plain": [
       "                                         job_title     company_name  \\\n",
       "0                             Data Engineer Intern           OPSWAT   \n",
       "1                             Data Engineer Intern      ActiveFence   \n",
       "2    Software Intern (Fullstack), Digital Business  VNG Corporation   \n",
       "3  Technical Intern, SLT Data Application Engineer           Ampere   \n",
       "4                    Software Engineer Intern - QA         ShopBack   \n",
       "\n",
       "                          job_location        job_time_posted  \\\n",
       "0            Ho Chi Minh City, Vietnam             2 days ago   \n",
       "1                Hanoi, Hanoi, Vietnam             5 days ago   \n",
       "2  Phường Chí Minh, Hai Duong, Vietnam             2 days ago   \n",
       "3   Ho Chi Minh City Metropolitan Area            2 weeks ago   \n",
       "4   Ho Chi Minh City Metropolitan Area  Reposted 19 hours ago   \n",
       "\n",
       "          job_applicants_applied  \\\n",
       "0            Over 100 applicants   \n",
       "1        70 people clicked apply   \n",
       "2        95 people clicked apply   \n",
       "3        41 people clicked apply   \n",
       "4  Over 100 people clicked apply   \n",
       "\n",
       "                                            job_role  \\\n",
       "0  On-site,Internship,0 of 10 skills match Requir...   \n",
       "1                                  Hybrid,Internship   \n",
       "2                                  On-site,Full-time   \n",
       "3                                 On-site,Internship   \n",
       "4                                  Hybrid,Internship   \n",
       "\n",
       "                                         job_details  \n",
       "0  The Position\\nWe are looking for an eager and ...  \n",
       "1  About the Role:\\nWe are seeking a motivated an...  \n",
       "2  Mô tả công việc\\nAssist in full-stack web deve...  \n",
       "3  Description\\nInvent the future with us.\\nRecog...  \n",
       "4  Our Journey\\nShopBack started as a spark of in...  "
      ]
     },
     "execution_count": 11,
     "metadata": {},
     "output_type": "execute_result"
    }
   ],
   "source": [
    "df.head()"
   ]
  },
  {
   "cell_type": "code",
   "execution_count": 12,
   "metadata": {
    "colab": {
     "base_uri": "https://localhost:8080/"
    },
    "execution": {
     "iopub.execute_input": "2025-03-18T04:26:25.800818Z",
     "iopub.status.busy": "2025-03-18T04:26:25.800532Z",
     "iopub.status.idle": "2025-03-18T04:26:25.810236Z",
     "shell.execute_reply": "2025-03-18T04:26:25.809510Z",
     "shell.execute_reply.started": "2025-03-18T04:26:25.800797Z"
    },
    "executionInfo": {
     "elapsed": 4760,
     "status": "ok",
     "timestamp": 1739959611512,
     "user": {
      "displayName": "hang tai",
      "userId": "02398878970289659204"
     },
     "user_tz": -420
    },
    "id": "fRMcx7rXl9oR",
    "outputId": "ef556047-7bce-4949-8a7d-21b38c92e909",
    "trusted": true
   },
   "outputs": [
    {
     "data": {
      "text/html": [
       "<div>\n",
       "<style scoped>\n",
       "    .dataframe tbody tr th:only-of-type {\n",
       "        vertical-align: middle;\n",
       "    }\n",
       "\n",
       "    .dataframe tbody tr th {\n",
       "        vertical-align: top;\n",
       "    }\n",
       "\n",
       "    .dataframe thead th {\n",
       "        text-align: right;\n",
       "    }\n",
       "</style>\n",
       "<table border=\"1\" class=\"dataframe\">\n",
       "  <thead>\n",
       "    <tr style=\"text-align: right;\">\n",
       "      <th></th>\n",
       "      <th>job_title</th>\n",
       "      <th>company_name</th>\n",
       "      <th>job_location</th>\n",
       "      <th>job_time_posted</th>\n",
       "      <th>job_applicants_applied</th>\n",
       "      <th>job_role</th>\n",
       "      <th>job_details</th>\n",
       "    </tr>\n",
       "  </thead>\n",
       "  <tbody>\n",
       "    <tr>\n",
       "      <th>16</th>\n",
       "      <td>Software Engineer Intern - Frontend</td>\n",
       "      <td>ShopBack</td>\n",
       "      <td>Ho Chi Minh City Metropolitan Area</td>\n",
       "      <td>2 weeks ago</td>\n",
       "      <td>Over 100 people clicked apply</td>\n",
       "      <td>Hybrid,Internship</td>\n",
       "      <td>Our Journey\\nShopBack started as a spark of in...</td>\n",
       "    </tr>\n",
       "    <tr>\n",
       "      <th>17</th>\n",
       "      <td>Game Designer ( 6 - months internship)</td>\n",
       "      <td>Gameloft</td>\n",
       "      <td>Hanoi, Hanoi, Vietnam</td>\n",
       "      <td>2 weeks ago</td>\n",
       "      <td>19 applicants</td>\n",
       "      <td>On-site,Full-time</td>\n",
       "      <td>Join The Game!\\nLeader in the development and ...</td>\n",
       "    </tr>\n",
       "    <tr>\n",
       "      <th>18</th>\n",
       "      <td>DevOps Engineer Intern, KMS Healthcare</td>\n",
       "      <td>KMS Healthcare</td>\n",
       "      <td>Đà Nang, Da Nang City, Vietnam</td>\n",
       "      <td>2 days ago</td>\n",
       "      <td>3 applicants</td>\n",
       "      <td>Hybrid,Internship</td>\n",
       "      <td>Company Description\\nKMS Technology\\nwas estab...</td>\n",
       "    </tr>\n",
       "    <tr>\n",
       "      <th>19</th>\n",
       "      <td>Technical Intern, BMC Software Engineer</td>\n",
       "      <td>Ampere</td>\n",
       "      <td>Ho Chi Minh City Metropolitan Area</td>\n",
       "      <td>Reposted 1 week ago</td>\n",
       "      <td>Over 100 people clicked apply</td>\n",
       "      <td>On-site,Internship</td>\n",
       "      <td>Description\\nInvent the future with us.\\nRecog...</td>\n",
       "    </tr>\n",
       "    <tr>\n",
       "      <th>20</th>\n",
       "      <td>Junior AI Software Engineer</td>\n",
       "      <td>AvePoint</td>\n",
       "      <td>Hanoi, Hanoi, Vietnam</td>\n",
       "      <td>Reposted 5 days ago</td>\n",
       "      <td>52 applicants</td>\n",
       "      <td>On-site,Full-time</td>\n",
       "      <td>Responsibilities\\nDevelopment Support:\\nAssist...</td>\n",
       "    </tr>\n",
       "  </tbody>\n",
       "</table>\n",
       "</div>"
      ],
      "text/plain": [
       "                                  job_title    company_name  \\\n",
       "16      Software Engineer Intern - Frontend        ShopBack   \n",
       "17   Game Designer ( 6 - months internship)        Gameloft   \n",
       "18   DevOps Engineer Intern, KMS Healthcare  KMS Healthcare   \n",
       "19  Technical Intern, BMC Software Engineer          Ampere   \n",
       "20              Junior AI Software Engineer        AvePoint   \n",
       "\n",
       "                          job_location      job_time_posted  \\\n",
       "16  Ho Chi Minh City Metropolitan Area          2 weeks ago   \n",
       "17               Hanoi, Hanoi, Vietnam          2 weeks ago   \n",
       "18      Đà Nang, Da Nang City, Vietnam           2 days ago   \n",
       "19  Ho Chi Minh City Metropolitan Area  Reposted 1 week ago   \n",
       "20               Hanoi, Hanoi, Vietnam  Reposted 5 days ago   \n",
       "\n",
       "           job_applicants_applied            job_role  \\\n",
       "16  Over 100 people clicked apply   Hybrid,Internship   \n",
       "17                  19 applicants   On-site,Full-time   \n",
       "18                   3 applicants   Hybrid,Internship   \n",
       "19  Over 100 people clicked apply  On-site,Internship   \n",
       "20                  52 applicants   On-site,Full-time   \n",
       "\n",
       "                                          job_details  \n",
       "16  Our Journey\\nShopBack started as a spark of in...  \n",
       "17  Join The Game!\\nLeader in the development and ...  \n",
       "18  Company Description\\nKMS Technology\\nwas estab...  \n",
       "19  Description\\nInvent the future with us.\\nRecog...  \n",
       "20  Responsibilities\\nDevelopment Support:\\nAssist...  "
      ]
     },
     "execution_count": 12,
     "metadata": {},
     "output_type": "execute_result"
    }
   ],
   "source": [
    "df.tail()"
   ]
  },
  {
   "cell_type": "code",
   "execution_count": 13,
   "metadata": {
    "colab": {
     "base_uri": "https://localhost:8080/"
    },
    "execution": {
     "iopub.execute_input": "2025-03-18T04:26:28.175053Z",
     "iopub.status.busy": "2025-03-18T04:26:28.174646Z",
     "iopub.status.idle": "2025-03-18T04:26:28.180678Z",
     "shell.execute_reply": "2025-03-18T04:26:28.179832Z",
     "shell.execute_reply.started": "2025-03-18T04:26:28.175020Z"
    },
    "executionInfo": {
     "elapsed": 13,
     "status": "ok",
     "timestamp": 1739249696368,
     "user": {
      "displayName": "hang tai",
      "userId": "02398878970289659204"
     },
     "user_tz": -420
    },
    "id": "-vMj-JJNXA0E",
    "outputId": "5d67f507-6cad-43d8-f0fd-2ca5d088e9ce",
    "trusted": true
   },
   "outputs": [
    {
     "data": {
      "text/plain": [
       "pandas.core.frame.DataFrame"
      ]
     },
     "execution_count": 13,
     "metadata": {},
     "output_type": "execute_result"
    }
   ],
   "source": [
    "# check type of data\n",
    "type(df)"
   ]
  },
  {
   "cell_type": "markdown",
   "metadata": {
    "id": "TnkGd7CQXnTN"
   },
   "source": [
    "# Analyze the data"
   ]
  },
  {
   "cell_type": "code",
   "execution_count": 14,
   "metadata": {
    "colab": {
     "base_uri": "https://localhost:8080/"
    },
    "execution": {
     "iopub.execute_input": "2025-03-18T04:26:30.261712Z",
     "iopub.status.busy": "2025-03-18T04:26:30.261414Z",
     "iopub.status.idle": "2025-03-18T04:26:30.266750Z",
     "shell.execute_reply": "2025-03-18T04:26:30.265970Z",
     "shell.execute_reply.started": "2025-03-18T04:26:30.261691Z"
    },
    "executionInfo": {
     "elapsed": 28,
     "status": "ok",
     "timestamp": 1739249855718,
     "user": {
      "displayName": "hang tai",
      "userId": "02398878970289659204"
     },
     "user_tz": -420
    },
    "id": "iLXDsNdHXoON",
    "outputId": "5cc3b387-1833-414e-c2eb-0d58f0cec52c",
    "trusted": true
   },
   "outputs": [
    {
     "data": {
      "text/plain": [
       "['job_title',\n",
       " 'company_name',\n",
       " 'job_location',\n",
       " 'job_time_posted',\n",
       " 'job_applicants_applied',\n",
       " 'job_role',\n",
       " 'job_details']"
      ]
     },
     "execution_count": 14,
     "metadata": {},
     "output_type": "execute_result"
    }
   ],
   "source": [
    "# check all features of data\n",
    "df.columns.to_list()"
   ]
  },
  {
   "cell_type": "code",
   "execution_count": 15,
   "metadata": {
    "colab": {
     "base_uri": "https://localhost:8080/"
    },
    "execution": {
     "iopub.execute_input": "2025-03-18T04:26:32.271918Z",
     "iopub.status.busy": "2025-03-18T04:26:32.271606Z",
     "iopub.status.idle": "2025-03-18T04:26:32.294749Z",
     "shell.execute_reply": "2025-03-18T04:26:32.294026Z",
     "shell.execute_reply.started": "2025-03-18T04:26:32.271891Z"
    },
    "executionInfo": {
     "elapsed": 43,
     "status": "ok",
     "timestamp": 1739249942038,
     "user": {
      "displayName": "hang tai",
      "userId": "02398878970289659204"
     },
     "user_tz": -420
    },
    "id": "ZqnYb-LqXrcl",
    "outputId": "fb6a9c1f-b6a0-4045-f833-679286a5bf65",
    "trusted": true
   },
   "outputs": [
    {
     "name": "stdout",
     "output_type": "stream",
     "text": [
      "<class 'pandas.core.frame.DataFrame'>\n",
      "RangeIndex: 21 entries, 0 to 20\n",
      "Data columns (total 7 columns):\n",
      " #   Column                  Non-Null Count  Dtype \n",
      "---  ------                  --------------  ----- \n",
      " 0   job_title               21 non-null     object\n",
      " 1   company_name            21 non-null     object\n",
      " 2   job_location            21 non-null     object\n",
      " 3   job_time_posted         21 non-null     object\n",
      " 4   job_applicants_applied  21 non-null     object\n",
      " 5   job_role                21 non-null     object\n",
      " 6   job_details             20 non-null     object\n",
      "dtypes: object(7)\n",
      "memory usage: 1.3+ KB\n"
     ]
    }
   ],
   "source": [
    "# check null data\n",
    "df.info()"
   ]
  },
  {
   "cell_type": "code",
   "execution_count": 16,
   "metadata": {
    "execution": {
     "iopub.execute_input": "2025-03-18T04:26:34.287633Z",
     "iopub.status.busy": "2025-03-18T04:26:34.287269Z",
     "iopub.status.idle": "2025-03-18T04:26:34.298227Z",
     "shell.execute_reply": "2025-03-18T04:26:34.297447Z",
     "shell.execute_reply.started": "2025-03-18T04:26:34.287605Z"
    },
    "trusted": true
   },
   "outputs": [
    {
     "data": {
      "text/html": [
       "<div>\n",
       "<style scoped>\n",
       "    .dataframe tbody tr th:only-of-type {\n",
       "        vertical-align: middle;\n",
       "    }\n",
       "\n",
       "    .dataframe tbody tr th {\n",
       "        vertical-align: top;\n",
       "    }\n",
       "\n",
       "    .dataframe thead th {\n",
       "        text-align: right;\n",
       "    }\n",
       "</style>\n",
       "<table border=\"1\" class=\"dataframe\">\n",
       "  <thead>\n",
       "    <tr style=\"text-align: right;\">\n",
       "      <th></th>\n",
       "      <th>job_title</th>\n",
       "      <th>company_name</th>\n",
       "      <th>job_location</th>\n",
       "      <th>job_time_posted</th>\n",
       "      <th>job_applicants_applied</th>\n",
       "      <th>job_role</th>\n",
       "      <th>job_details</th>\n",
       "    </tr>\n",
       "  </thead>\n",
       "  <tbody>\n",
       "    <tr>\n",
       "      <th>0</th>\n",
       "      <td>Data Engineer Intern</td>\n",
       "      <td>OPSWAT</td>\n",
       "      <td>Ho Chi Minh City, Vietnam</td>\n",
       "      <td>2 days ago</td>\n",
       "      <td>Over 100 applicants</td>\n",
       "      <td>On-site,Internship,0 of 10 skills match Requir...</td>\n",
       "      <td>The Position\\nWe are looking for an eager and ...</td>\n",
       "    </tr>\n",
       "    <tr>\n",
       "      <th>1</th>\n",
       "      <td>Data Engineer Intern</td>\n",
       "      <td>ActiveFence</td>\n",
       "      <td>Hanoi, Hanoi, Vietnam</td>\n",
       "      <td>5 days ago</td>\n",
       "      <td>70 people clicked apply</td>\n",
       "      <td>Hybrid,Internship</td>\n",
       "      <td>About the Role:\\nWe are seeking a motivated an...</td>\n",
       "    </tr>\n",
       "    <tr>\n",
       "      <th>2</th>\n",
       "      <td>Software Intern (Fullstack), Digital Business</td>\n",
       "      <td>VNG Corporation</td>\n",
       "      <td>Phường Chí Minh, Hai Duong, Vietnam</td>\n",
       "      <td>2 days ago</td>\n",
       "      <td>95 people clicked apply</td>\n",
       "      <td>On-site,Full-time</td>\n",
       "      <td>Mô tả công việc\\nAssist in full-stack web deve...</td>\n",
       "    </tr>\n",
       "    <tr>\n",
       "      <th>3</th>\n",
       "      <td>Technical Intern, SLT Data Application Engineer</td>\n",
       "      <td>Ampere</td>\n",
       "      <td>Ho Chi Minh City Metropolitan Area</td>\n",
       "      <td>2 weeks ago</td>\n",
       "      <td>41 people clicked apply</td>\n",
       "      <td>On-site,Internship</td>\n",
       "      <td>Description\\nInvent the future with us.\\nRecog...</td>\n",
       "    </tr>\n",
       "    <tr>\n",
       "      <th>4</th>\n",
       "      <td>Software Engineer Intern - QA</td>\n",
       "      <td>ShopBack</td>\n",
       "      <td>Ho Chi Minh City Metropolitan Area</td>\n",
       "      <td>Reposted 19 hours ago</td>\n",
       "      <td>Over 100 people clicked apply</td>\n",
       "      <td>Hybrid,Internship</td>\n",
       "      <td>Our Journey\\nShopBack started as a spark of in...</td>\n",
       "    </tr>\n",
       "  </tbody>\n",
       "</table>\n",
       "</div>"
      ],
      "text/plain": [
       "                                         job_title     company_name  \\\n",
       "0                             Data Engineer Intern           OPSWAT   \n",
       "1                             Data Engineer Intern      ActiveFence   \n",
       "2    Software Intern (Fullstack), Digital Business  VNG Corporation   \n",
       "3  Technical Intern, SLT Data Application Engineer           Ampere   \n",
       "4                    Software Engineer Intern - QA         ShopBack   \n",
       "\n",
       "                          job_location        job_time_posted  \\\n",
       "0            Ho Chi Minh City, Vietnam             2 days ago   \n",
       "1                Hanoi, Hanoi, Vietnam             5 days ago   \n",
       "2  Phường Chí Minh, Hai Duong, Vietnam             2 days ago   \n",
       "3   Ho Chi Minh City Metropolitan Area            2 weeks ago   \n",
       "4   Ho Chi Minh City Metropolitan Area  Reposted 19 hours ago   \n",
       "\n",
       "          job_applicants_applied  \\\n",
       "0            Over 100 applicants   \n",
       "1        70 people clicked apply   \n",
       "2        95 people clicked apply   \n",
       "3        41 people clicked apply   \n",
       "4  Over 100 people clicked apply   \n",
       "\n",
       "                                            job_role  \\\n",
       "0  On-site,Internship,0 of 10 skills match Requir...   \n",
       "1                                  Hybrid,Internship   \n",
       "2                                  On-site,Full-time   \n",
       "3                                 On-site,Internship   \n",
       "4                                  Hybrid,Internship   \n",
       "\n",
       "                                         job_details  \n",
       "0  The Position\\nWe are looking for an eager and ...  \n",
       "1  About the Role:\\nWe are seeking a motivated an...  \n",
       "2  Mô tả công việc\\nAssist in full-stack web deve...  \n",
       "3  Description\\nInvent the future with us.\\nRecog...  \n",
       "4  Our Journey\\nShopBack started as a spark of in...  "
      ]
     },
     "execution_count": 16,
     "metadata": {},
     "output_type": "execute_result"
    }
   ],
   "source": [
    "df.head()"
   ]
  },
  {
   "cell_type": "markdown",
   "metadata": {
    "id": "d6kleXW-YWgb"
   },
   "source": [
    "# Loading Documents"
   ]
  },
  {
   "cell_type": "code",
   "execution_count": 43,
   "metadata": {
    "execution": {
     "iopub.execute_input": "2025-03-18T04:58:37.274551Z",
     "iopub.status.busy": "2025-03-18T04:58:37.274252Z",
     "iopub.status.idle": "2025-03-18T04:58:37.281682Z",
     "shell.execute_reply": "2025-03-18T04:58:37.280842Z",
     "shell.execute_reply.started": "2025-03-18T04:58:37.274527Z"
    },
    "id": "RzG5mF3YYbml",
    "trusted": true
   },
   "outputs": [],
   "source": [
    "# Convert into documents\n",
    "documents = [\n",
    "    Document(\n",
    "        page_content=f'''Job Title: {row[\"job_title\"]}\n",
    "        \\nCompany Name: {row[\"company_name\"]}\n",
    "        \\nJob Location: {row[\"job_location\"]}\n",
    "        \\nTime of the job that is posted in Linkedin: {row[\"job_time_posted\"]}\n",
    "        \\nApplicants of Job that is applied: {row[\"job_applicants_applied\"]}\n",
    "        \\nRole of the job: {row[\"job_role\"]}\n",
    "        \\nDetails of the job: it include: qualification, requirement, beneficial and something like that: {row[\"job_details\"]}''',\n",
    "        metadata={\n",
    "            \"job_title\": row[\"job_title\"],\n",
    "            \"company_name\": row[\"company_name\"],\n",
    "            \"job_location\": row[\"job_location\"]\n",
    "        },\n",
    "    )\n",
    "    for _, row in df.iterrows()\n",
    "]"
   ]
  },
  {
   "cell_type": "markdown",
   "metadata": {},
   "source": [
    "# Preprocessing text with Splitter and Load it into Embedding"
   ]
  },
  {
   "cell_type": "code",
   "execution_count": 44,
   "metadata": {
    "execution": {
     "iopub.execute_input": "2025-03-18T04:58:38.803514Z",
     "iopub.status.busy": "2025-03-18T04:58:38.803183Z",
     "iopub.status.idle": "2025-03-18T04:58:38.807218Z",
     "shell.execute_reply": "2025-03-18T04:58:38.806363Z",
     "shell.execute_reply.started": "2025-03-18T04:58:38.803484Z"
    },
    "trusted": true
   },
   "outputs": [],
   "source": [
    "# use GPU if it exist\n",
    "device = \"cuda\" if torch.cuda.is_available() else \"cpu\""
   ]
  },
  {
   "cell_type": "code",
   "execution_count": 45,
   "metadata": {
    "execution": {
     "iopub.execute_input": "2025-03-18T04:58:41.718084Z",
     "iopub.status.busy": "2025-03-18T04:58:41.717800Z",
     "iopub.status.idle": "2025-03-18T04:58:44.263457Z",
     "shell.execute_reply": "2025-03-18T04:58:44.262797Z",
     "shell.execute_reply.started": "2025-03-18T04:58:41.718061Z"
    },
    "id": "9wxzWSjdYVQD",
    "trusted": true
   },
   "outputs": [],
   "source": [
    "# Split long text\n",
    "splitter = RecursiveCharacterTextSplitter(\n",
    "    chunk_size=1000, \n",
    "    chunk_overlap=100,\n",
    "    add_start_index=True\n",
    ")\n",
    "split_docs = splitter.split_documents(documents)\n",
    "\n",
    "# Embedding model\n",
    "embeddings = HuggingFaceEmbeddings(\n",
    "    model_name=\"sentence-transformers/all-mpnet-base-v2\",\n",
    "    model_kwargs={\"device\": device}, # use GPU or CPU\n",
    "    encode_kwargs={\"batch_size\": 32, \"normalize_embeddings\": True} # fit with CPU\n",
    ")\n",
    "\n",
    "# Store documents in FAISS\n",
    "vector_db = FAISS.from_documents(\n",
    "    split_docs, \n",
    "    embeddings,\n",
    "    distance_strategy=\"COSINE\" # change distance\n",
    ")\n",
    "\n",
    "# Save to disk\n",
    "vector_db.save_local(\"faiss_index\")"
   ]
  },
  {
   "cell_type": "code",
   "execution_count": null,
   "metadata": {
    "execution": {
     "iopub.execute_input": "2025-03-18T04:58:48.817531Z",
     "iopub.status.busy": "2025-03-18T04:58:48.817227Z",
     "iopub.status.idle": "2025-03-18T04:58:48.831370Z",
     "shell.execute_reply": "2025-03-18T04:58:48.830464Z",
     "shell.execute_reply.started": "2025-03-18T04:58:48.817507Z"
    },
    "trusted": true
   },
   "outputs": [],
   "source": [
    "# Load your FAISS index\n",
    "vector_db = FAISS.load_local(\n",
    "    \"/kaggle/working/faiss_index\", \n",
    "    embeddings,\n",
    "    allow_dangerous_deserialization=True \n",
    "    # because langchain requires explicit permission to desserilization the saved FAISS\n",
    ")\n",
    "vector_retriever = vector_db.as_retriever(search_kwargs={\"k\": 5})\n",
    "\n",
    "# Create BM25 retriever for keyword search\n",
    "bm25_retriever = BM25Retriever.from_documents(split_docs)\n",
    "bm25_retriever.k = 5\n",
    "\n",
    "# Create ensemble retriever for hybrid search: Semantic Search and Keyword Search\n",
    "ensemble_retriever = EnsembleRetriever(\n",
    "    retrievers=[bm25_retriever, vector_retriever],\n",
    "    weights=[0.3, 0.7]  # Weight semantic search higher\n",
    ")"
   ]
  },
  {
   "cell_type": "code",
   "execution_count": 63,
   "metadata": {
    "colab": {
     "base_uri": "https://localhost:8080/"
    },
    "execution": {
     "iopub.execute_input": "2025-03-16T12:10:49.746774Z",
     "iopub.status.busy": "2025-03-16T12:10:49.746449Z",
     "iopub.status.idle": "2025-03-16T12:10:49.767328Z",
     "shell.execute_reply": "2025-03-16T12:10:49.766339Z",
     "shell.execute_reply.started": "2025-03-16T12:10:49.746750Z"
    },
    "executionInfo": {
     "elapsed": 22,
     "status": "ok",
     "timestamp": 1739273388741,
     "user": {
      "displayName": "hang tai",
      "userId": "02398878970289659204"
     },
     "user_tz": -420
    },
    "id": "qL7VeAXUwLLQ",
    "outputId": "2c45f27f-ba80-4072-addb-e159701a7f33",
    "trusted": true
   },
   "outputs": [
    {
     "name": "stdout",
     "output_type": "stream",
     "text": [
      "Job Title: Data Engineer Intern\n",
      "        \n",
      "Company Name: OPSWAT\n",
      "        \n",
      "Job Location: Ho Chi Minh City, Vietnam\n",
      "        \n",
      "Time of the job that is posted in Linkedin: 2 days ago\n",
      "        \n",
      "Applicants of Job that is applied: Over 100 applicants\n",
      "        \n",
      "Role of the job: On-site,Internship,0 of 10 skills match Required skills are missing from your profile,0 of 10 skills match\n",
      "        \n",
      "Details of the job: it include: qualification, requirement, beneficial and something like that: The Position\n",
      "We are looking for an eager and motivated Data Engineer Intern to join our team. In this role, you will assist in building and maintaining data pipelines, supporting data integration tasks, and learning how to leverage cloud and database technologies. This internship provides hands-on experience in data engineering, and you will have the opportunity to work with experienced professionals and grow your skills in data technologies.\n",
      "What You Will be Doing\n",
      "Job Title: DevOps Engineer Intern, KMS Healthcare\n",
      "        \n",
      "Company Name: KMS Healthcare\n",
      "        \n",
      "Job Location: Đà Nang, Da Nang City, Vietnam\n",
      "        \n",
      "Time of the job that is posted in Linkedin: 2 days ago\n",
      "        \n",
      "Applicants of Job that is applied: 3 applicants\n",
      "        \n",
      "Role of the job: Hybrid,Internship\n",
      "        \n",
      "Details of the job: it include: qualification, requirement, beneficial and something like that: Company Description\n",
      "KMS Technology\n",
      "was established in 2009 as a U.S.-based software services company. With development centers in Vietnam and Mexico, we have been trusted globally for the superlative quality of our software consulting & development services, technology solutions, and engineers' expertise. We pride ourselves on creating brilliant solutions for our clients by leveraging deep expertise, advanced technologies, and delivery excellence for a shared success where everyone can reach their fullest potential. With three Business Lines:\n"
     ]
    }
   ],
   "source": [
    "# Search for similar job postings\n",
    "query = \"Recommend for me about job opening at OPSWAT\"\n",
    "retrieved_jobs = vector_db.similarity_search(query, k=2)\n",
    "\n",
    "for job in retrieved_jobs:\n",
    "    print(job.page_content)  # Print retrieved job postings"
   ]
  },
  {
   "cell_type": "markdown",
   "metadata": {},
   "source": [
    "# Test performance between Semantic Search and Hybrid Search"
   ]
  },
  {
   "cell_type": "code",
   "execution_count": 47,
   "metadata": {
    "colab": {
     "base_uri": "https://localhost:8080/"
    },
    "execution": {
     "iopub.execute_input": "2025-03-18T04:58:57.749376Z",
     "iopub.status.busy": "2025-03-18T04:58:57.749073Z",
     "iopub.status.idle": "2025-03-18T04:58:58.229157Z",
     "shell.execute_reply": "2025-03-18T04:58:58.228501Z",
     "shell.execute_reply.started": "2025-03-18T04:58:57.749354Z"
    },
    "executionInfo": {
     "elapsed": 793,
     "status": "ok",
     "timestamp": 1739273688296,
     "user": {
      "displayName": "hang tai",
      "userId": "02398878970289659204"
     },
     "user_tz": -420
    },
    "id": "H4CPVsbFwWQC",
    "outputId": "6581e8df-f72f-4bbb-8dca-841eeb513c24",
    "trusted": true
   },
   "outputs": [
    {
     "name": "stdout",
     "output_type": "stream",
     "text": [
      "Based on the provided context, the following companies have job postings related to Data Engineer or Data Engineer Intern:\n",
      "\n",
      "1. **OPSWAT** - Data Engineer Intern\n",
      "2. **ActiveFence** - Data Engineer Intern\n"
     ]
    }
   ],
   "source": [
    "# Without Hybrid Search\n",
    "# Create retriever from vector database\n",
    "retriever = vector_db.as_retriever(search_kwargs={\"k\": 5})\n",
    "\n",
    "# Set up RetrievalQA chain\n",
    "qa_chain = RetrievalQA.from_chain_type(llm, retriever=retriever)\n",
    "\n",
    "# Ask a job-related question\n",
    "response = qa_chain.run(\"Company available job about Data Engineer or Data Engineer Intern?\")\n",
    "print(response)"
   ]
  },
  {
   "cell_type": "code",
   "execution_count": 48,
   "metadata": {
    "execution": {
     "iopub.execute_input": "2025-03-18T04:59:00.438689Z",
     "iopub.status.busy": "2025-03-18T04:59:00.438361Z",
     "iopub.status.idle": "2025-03-18T04:59:01.103896Z",
     "shell.execute_reply": "2025-03-18T04:59:01.103016Z",
     "shell.execute_reply.started": "2025-03-18T04:59:00.438663Z"
    },
    "trusted": true
   },
   "outputs": [
    {
     "name": "stdout",
     "output_type": "stream",
     "text": [
      "Based on the provided context, the following companies have job postings related to Data Engineer or Data Engineer Intern:\n",
      "\n",
      "1. **OPSWAT** - Data Engineer Intern\n",
      "   - Location: Ho Chi Minh City, Vietnam\n",
      "   - Posted: 2 days ago\n",
      "\n",
      "2. **ActiveFence** - Data Engineer Intern\n",
      "   - Location: Hanoi, Hanoi, Vietnam\n",
      "   - Posted: 5 days ago\n"
     ]
    }
   ],
   "source": [
    "# With Hybrid Search\n",
    "# Set up RetrievalQA chain\n",
    "qa_chain = RetrievalQA.from_chain_type(llm, retriever=ensemble_retriever)\n",
    "\n",
    "# Ask a job-related question\n",
    "response = qa_chain.run(\"Company available job about Data Engineer or Data Engineer Intern?\")\n",
    "print(response)"
   ]
  },
  {
   "cell_type": "markdown",
   "metadata": {},
   "source": [
    "# QNA Enhancement"
   ]
  },
  {
   "cell_type": "code",
   "execution_count": 49,
   "metadata": {
    "execution": {
     "iopub.execute_input": "2025-03-18T04:59:15.441550Z",
     "iopub.status.busy": "2025-03-18T04:59:15.441237Z",
     "iopub.status.idle": "2025-03-18T04:59:16.337139Z",
     "shell.execute_reply": "2025-03-18T04:59:16.336464Z",
     "shell.execute_reply.started": "2025-03-18T04:59:15.441525Z"
    },
    "trusted": true
   },
   "outputs": [
    {
     "name": "stdout",
     "output_type": "stream",
     "text": [
      "\n",
      "\n",
      "\u001b[1m> Entering new RetrievalQA chain...\u001b[0m\n",
      "\n",
      "\u001b[1m> Finished chain.\u001b[0m\n",
      "Answer: Based on the provided context, there is one job opening at OPSWAT:\n",
      "\n",
      "**Job Title:** Data Engineer Intern\n",
      "\n",
      "**Company Name:** OPSWAT\n",
      "\n",
      "**Job Location:** Ho Chi Minh City, Vietnam\n",
      "\n",
      "**Time of the job that is posted on LinkedIn:** 2 days ago\n",
      "\n",
      "**Applicants of Job that is applied:** Over 100 applicants\n",
      "\n",
      "**Role of the job:** On-site, Internship\n",
      "\n",
      "**Details of the job:**\n",
      "- **The Position:** OPSWAT is looking for an eager and motivated Data Engineer Intern to join their team. In this role, you will assist in building and maintaining data pipelines, supporting data integration tasks, and learning how to leverage cloud and database technologies. This internship provides hands-on experience in data engineering, and you will have the opportunity to work with experienced professionals and grow your skills in data technologies.\n",
      "\n",
      "Source documents used:\n",
      "\n",
      "Document 1:\n",
      "Content: Job Title: Data Engineer Intern\n",
      "        \n",
      "Company Name: OPSWAT\n",
      "        \n",
      "Job Location: Ho Chi Minh City, Vietnam\n",
      "        \n",
      "Time of the job that is posted...\n",
      "Metadata: {'job_title': 'Data Engineer Intern', 'company_name': 'OPSWAT', 'job_location': 'Ho Chi Minh City, Vietnam', 'start_index': 0}\n",
      "\n",
      "Document 2:\n",
      "Content: Job Title: DevOps Engineer Intern, KMS Healthcare\n",
      "        \n",
      "Company Name: KMS Healthcare\n",
      "        \n",
      "Job Location: Đà Nang, Da Nang City, Vietnam\n",
      "        ...\n",
      "Metadata: {'job_title': 'DevOps Engineer Intern, KMS Healthcare', 'company_name': 'KMS Healthcare', 'job_location': 'Đà Nang, Da Nang City, Vietnam', 'start_index': 0}\n",
      "\n",
      "Document 3:\n",
      "Content: Job Title: QC Engineer Intern - Work in Da Nang\n",
      "        \n",
      "Company Name: Orient Software Development Corp.\n",
      "        \n",
      "Job Location: Ho Chi Minh City, Ho C...\n",
      "Metadata: {'job_title': 'QC Engineer Intern - Work in Da Nang', 'company_name': 'Orient Software Development Corp.', 'job_location': 'Ho Chi Minh City, Ho Chi Minh City, Vietnam', 'start_index': 0}\n",
      "\n",
      "Document 4:\n",
      "Content: Job Title: Software Intern (Fullstack), Digital Business\n",
      "        \n",
      "Company Name: VNG Corporation\n",
      "        \n",
      "Job Location: Phường Chí Minh, Hai Duong, Vie...\n",
      "Metadata: {'job_title': 'Software Intern (Fullstack), Digital Business', 'company_name': 'VNG Corporation', 'job_location': 'Phường Chí Minh, Hai Duong, Vietnam', 'start_index': 0}\n",
      "\n",
      "Document 5:\n",
      "Content: Job Title: Software Engineer Intern - Work in Hue\n",
      "        \n",
      "Company Name: Orient Software Development Corp.\n",
      "        \n",
      "Job Location: Ho Chi Minh City, Ho...\n",
      "Metadata: {'job_title': 'Software Engineer Intern - Work in Hue', 'company_name': 'Orient Software Development Corp.', 'job_location': 'Ho Chi Minh City, Ho Chi Minh City, Vietnam', 'start_index': 0}\n",
      "\n",
      "Document 6:\n",
      "Content: We are committed to protecting your data and ensuring fairness in our recruitment process. As part of this process, we use AI tools to assist with tas...\n",
      "Metadata: {'job_title': 'Software Engineer Intern - Frontend', 'company_name': 'ShopBack', 'job_location': 'Ho Chi Minh City Metropolitan Area', 'start_index': 3444}\n",
      "\n",
      "Document 7:\n",
      "Content: What You’ll Achieve\n",
      "Work with the team to build big-data oriented applications.\n",
      "Study and develop web applications using modern technology frameworks....\n",
      "Metadata: {'job_title': 'Technical Intern, SLT Data Application Engineer', 'company_name': 'Ampere', 'job_location': 'Ho Chi Minh City Metropolitan Area', 'start_index': 1732}\n",
      "\n",
      "Document 8:\n",
      "Content: KMS Healthcare: Build transformative next-gen technologies to solve healthcare’s most challenging problems, providing innovative tools and expertise t...\n",
      "Metadata: {'job_title': 'Software Test Engineer Intern (QA/QC/Tester intern), KMS Healthcare', 'company_name': 'KMS Healthcare', 'job_location': 'Ho Chi Minh City, Ho Chi Minh City, Vietnam', 'start_index': 1455}\n"
     ]
    }
   ],
   "source": [
    "# Create a custom prompt template that emphasizes using context\n",
    "template = \"\"\"Answer the question based only on the following context:\n",
    "\n",
    "{context}\n",
    "\n",
    "Question: {question}\n",
    "Answer: \"\"\"\n",
    "\n",
    "PROMPT = PromptTemplate(\n",
    "    template=template, \n",
    "    input_variables=[\"context\", \"question\"]\n",
    ")\n",
    "\n",
    "# Set up a more detailed chain\n",
    "qa_chain = RetrievalQA.from_chain_type(\n",
    "    llm=llm,\n",
    "    chain_type=\"stuff\",\n",
    "    retriever=ensemble_retriever,\n",
    "    return_source_documents=True,\n",
    "    chain_type_kwargs={\"prompt\": PROMPT},\n",
    "    verbose=True  # Add this to see processing details\n",
    ")\n",
    "\n",
    "# Run query with full response\n",
    "result = qa_chain({\"query\": \"Tell me about job openings at OPSWAT\"})\n",
    "print(\"Answer:\", result[\"result\"])\n",
    "print(\"\\nSource documents used:\")\n",
    "for i, doc in enumerate(result[\"source_documents\"]):\n",
    "    print(f\"\\nDocument {i+1}:\")\n",
    "    print(f\"Content: {doc.page_content[:150]}...\")\n",
    "    print(f\"Metadata: {doc.metadata}\")"
   ]
  },
  {
   "cell_type": "code",
   "execution_count": 33,
   "metadata": {
    "execution": {
     "iopub.execute_input": "2025-03-18T04:43:37.201855Z",
     "iopub.status.busy": "2025-03-18T04:43:37.201496Z",
     "iopub.status.idle": "2025-03-18T04:43:38.945305Z",
     "shell.execute_reply": "2025-03-18T04:43:38.944627Z",
     "shell.execute_reply.started": "2025-03-18T04:43:37.201831Z"
    },
    "trusted": true
   },
   "outputs": [
    {
     "name": "stdout",
     "output_type": "stream",
     "text": [
      "\n",
      "\n",
      "\u001b[1m> Entering new RetrievalQA chain...\u001b[0m\n",
      "\n",
      "\u001b[1m> Finished chain.\u001b[0m\n",
      "Answer: Based on the provided context, there are two job openings for the Data Engineer role:\n",
      "\n",
      "1. **Data Engineer Intern at OPSWAT**\n",
      "   - **Company Name:** OPSWAT\n",
      "   - **Job Location:** Ho Chi Minh City, Vietnam\n",
      "   - **Posted:** 2 days ago\n",
      "   - **Applicants:** Over 100 applicants\n",
      "   - **Role:** On-site, Internship\n",
      "   - **Responsibilities:**\n",
      "     - Assist in building, testing, and optimizing simple data pipelines using tools like Azure Data Factory.\n",
      "     - Manage and integrate data from different sources (SQL and NoSQL databases).\n",
      "     - Write basic SQL queries for data extraction, transformation, and loading (ETL).\n",
      "     - Support data engineers in automating processes and writing Python scripts for data manipulation.\n",
      "     - Monitor data quality and assist with resolving data issues.\n",
      "     - Collaborate with team members to ensure proper documentation of processes.\n",
      "     - Learn about data modeling and best practices for data engineering.\n",
      "   - **Requirements:**\n",
      "     - Currently pursuing a degree in Computer Science, Data Science, Engineering, or a related field.\n",
      "     - Basic understanding of SQL and experience with relational databases (e.g., MySQL, PostgreSQL).\n",
      "     - Familiarity with Python, especially for tasks like data manipulation or basic scripting.\n",
      "     - Exposure to Azure Data Factory or other ETL tools (e.g., through coursework or personal projects).\n",
      "\n",
      "2. **Data Engineer Intern at ActiveFence**\n",
      "   - **Company Name:** ActiveFence\n",
      "   - **Job Location:** Hanoi, Hanoi, Vietnam\n",
      "   - **Posted:** 5 days ago\n",
      "   - **Applicants:** 70 people clicked apply\n",
      "   - **Role:** Hybrid, Internship\n",
      "   - **Responsibilities:**\n",
      "     - Conduct research and develop efficient web scraping tools to gather and process data from various online sources.\n",
      "   - **Requirements:**\n",
      "     - Motivated and detail-oriented.\n",
      "     - Contribute to the development and optimization of data infrastructure, focusing on automation, scalability, and efficiency.\n",
      "     - Gain hands-on experience in web scraping, automation, and data engineering within a cutting-edge tech environment.\n",
      "\n",
      "Source documents used:\n",
      "\n",
      "Document 1:\n",
      "Content: What You Will be Doing\n",
      "Assist in building, testing, and optimizing simple data pipelines using tools like Azure Data Factory.\n",
      "Help manage and integrat...\n",
      "Metadata: {'job_title': 'Data Engineer Intern', 'company_name': 'OPSWAT', 'job_location': 'Ho Chi Minh City, Vietnam', 'start_index': 924}\n",
      "\n",
      "Document 2:\n",
      "Content: Job Title: Data Engineer Intern\n",
      "        \n",
      "Company Name: OPSWAT\n",
      "        \n",
      "Job Location: Ho Chi Minh City, Vietnam\n",
      "        \n",
      "Time of the job that is posted...\n",
      "Metadata: {'job_title': 'Data Engineer Intern', 'company_name': 'OPSWAT', 'job_location': 'Ho Chi Minh City, Vietnam', 'start_index': 0}\n",
      "\n",
      "Document 3:\n",
      "Content: What You’ll Achieve\n",
      "Work with the team to build big-data oriented applications.\n",
      "Study and develop web applications using modern technology frameworks....\n",
      "Metadata: {'job_title': 'Technical Intern, SLT Data Application Engineer', 'company_name': 'Ampere', 'job_location': 'Ho Chi Minh City Metropolitan Area', 'start_index': 1732}\n",
      "\n",
      "Document 4:\n",
      "Content: Upper-intermediate level of English level\n",
      "Methodical and detail-oriented, with solid analytical skills and problem-solving ability\n",
      "Collaborative minds...\n",
      "Metadata: {'job_title': 'Software Test Engineer Intern (QA/QC/Tester intern), KMS Healthcare', 'company_name': 'KMS Healthcare', 'job_location': 'Ho Chi Minh City, Ho Chi Minh City, Vietnam', 'start_index': 4064}\n",
      "\n",
      "Document 5:\n",
      "Content: A keen interest in AI, machine learning, and related fields.\n",
      "Preferred Skills\n",
      "Proficiency in English, with exceptional listening, speaking, reading sk...\n",
      "Metadata: {'job_title': 'Junior AI Software Engineer', 'company_name': 'AvePoint', 'job_location': 'Hanoi, Hanoi, Vietnam', 'start_index': 1796}\n",
      "\n",
      "Document 6:\n",
      "Content: Job Title: Software Engineer Intern - Work in Hue\n",
      "        \n",
      "Company Name: Orient Software Development Corp.\n",
      "        \n",
      "Job Location: Ho Chi Minh City, Ho...\n",
      "Metadata: {'job_title': 'Software Engineer Intern - Work in Hue', 'company_name': 'Orient Software Development Corp.', 'job_location': 'Ho Chi Minh City, Ho Chi Minh City, Vietnam', 'start_index': 0}\n",
      "\n",
      "Document 7:\n",
      "Content: Job Title: Technical Intern, SLT Data Application Engineer\n",
      "        \n",
      "Company Name: Ampere\n",
      "        \n",
      "Job Location: Ho Chi Minh City Metropolitan Area\n",
      "   ...\n",
      "Metadata: {'job_title': 'Technical Intern, SLT Data Application Engineer', 'company_name': 'Ampere', 'job_location': 'Ho Chi Minh City Metropolitan Area', 'start_index': 0}\n",
      "\n",
      "Document 8:\n",
      "Content: Job Title: Data Engineer Intern\n",
      "        \n",
      "Company Name: ActiveFence\n",
      "        \n",
      "Job Location: Hanoi, Hanoi, Vietnam\n",
      "        \n",
      "Time of the job that is poste...\n",
      "Metadata: {'job_title': 'Data Engineer Intern', 'company_name': 'ActiveFence', 'job_location': 'Hanoi, Hanoi, Vietnam', 'start_index': 0}\n"
     ]
    }
   ],
   "source": [
    "# Run query with full response\n",
    "result = qa_chain({\"query\": \"Tell me about job openings for Data Engineer role\"})\n",
    "print(\"Answer:\", result[\"result\"])\n",
    "print(\"\\nSource documents used:\")\n",
    "for i, doc in enumerate(result[\"source_documents\"]):\n",
    "    print(f\"\\nDocument {i+1}:\")\n",
    "    print(f\"Content: {doc.page_content[:150]}...\")\n",
    "    print(f\"Metadata: {doc.metadata}\")"
   ]
  },
  {
   "cell_type": "code",
   "execution_count": 34,
   "metadata": {
    "execution": {
     "iopub.execute_input": "2025-03-18T04:44:09.258734Z",
     "iopub.status.busy": "2025-03-18T04:44:09.258397Z",
     "iopub.status.idle": "2025-03-18T04:44:11.586838Z",
     "shell.execute_reply": "2025-03-18T04:44:11.585971Z",
     "shell.execute_reply.started": "2025-03-18T04:44:09.258711Z"
    },
    "trusted": true
   },
   "outputs": [
    {
     "name": "stdout",
     "output_type": "stream",
     "text": [
      "\n",
      "\n",
      "\u001b[1m> Entering new RetrievalQA chain...\u001b[0m\n",
      "\n",
      "\u001b[1m> Finished chain.\u001b[0m\n",
      "Answer: Based on the provided context, there are three job openings in the data field:\n",
      "\n",
      "1. **Data Engineer Intern at OPSWAT**\n",
      "   - **Location:** Ho Chi Minh City, Vietnam\n",
      "   - **Posted:** 2 days ago\n",
      "   - **Applicants:** Over 100 applicants\n",
      "   - **Role:** On-site, Internship\n",
      "   - **Responsibilities:**\n",
      "     - Assist in building, testing, and optimizing data pipelines using tools like Azure Data Factory.\n",
      "     - Manage and integrate data from different sources (SQL and NoSQL databases).\n",
      "     - Write basic SQL queries for ETL processes.\n",
      "     - Support data engineers in automating processes and writing Python scripts for data manipulation.\n",
      "     - Monitor data quality and assist with resolving data issues.\n",
      "     - Collaborate with team members to ensure proper documentation of processes.\n",
      "     - Learn about data modeling and best practices for data engineering.\n",
      "   - **Qualifications:**\n",
      "     - Currently pursuing a degree in Computer Science, Data Science, Engineering, or a related field.\n",
      "     - Basic understanding of SQL and experience with relational databases (e.g., MySQL, PostgreSQL).\n",
      "     - Familiarity with Python, especially for tasks like data manipulation or basic scripting.\n",
      "     - Exposure to Azure Data Factory or other ETL tools.\n",
      "\n",
      "2. **Technical Intern, SLT Data Application Engineer at Ampere**\n",
      "   - **Location:** Ho Chi Minh City Metropolitan Area\n",
      "   - **Posted:** 2 weeks ago\n",
      "   - **Applicants:** 41 people clicked apply\n",
      "   - **Role:** On-site, Internship\n",
      "   - **Responsibilities:**\n",
      "     - Work with the team to build big-data oriented applications.\n",
      "     - Study and develop web applications using modern technology frameworks.\n",
      "     - Study the Semiconductor Manufacturing industry and how the company contributes to it.\n",
      "     - Study and interact with multiple modern system design concepts, especially in data infrastructure and application.\n",
      "   - **Qualifications:**\n",
      "     - Strong in backend programming language: Python\n",
      "     - Knowledge of some software architecture: MVC, Microservices, Publisher-Subscriber\n",
      "     - Knowledge of some front-end language: HTML/CSS/JS at a basic level\n",
      "     - Knowledge of working with Git\n",
      "     - Knowledge of databases and some pipeline tools (e.g., Kafka) at a basic level\n",
      "     - Willing to learn and research new technology and jump out of your comfort zone\n",
      "     - Passionate about web application design, integration, and maintenance\n",
      "     - Good written and communication skills in English and Vietnamese\n",
      "     - Has strong analytical and problem-solving skills.\n",
      "\n",
      "3. **Data Engineer Intern at ActiveFence**\n",
      "   - **Location:** Hanoi, Hanoi, Vietnam\n",
      "   - **Posted:** 5 days ago\n",
      "   - **Applicants:** 70 people clicked apply\n",
      "   - **Role:** Hybrid, Internship\n",
      "   - **Responsibilities:**\n",
      "     - Conduct research and develop efficient web scraping tools to gather and process data from various online sources.\n",
      "   - **Qualifications:**\n",
      "     - Motivated and detail-oriented\n",
      "     - Focus on automation, scalability, and efficiency in data infrastructure.\n",
      "\n",
      "Source documents used:\n",
      "\n",
      "Document 1:\n",
      "Content: What You Will be Doing\n",
      "Assist in building, testing, and optimizing simple data pipelines using tools like Azure Data Factory.\n",
      "Help manage and integrat...\n",
      "Metadata: {'job_title': 'Data Engineer Intern', 'company_name': 'OPSWAT', 'job_location': 'Ho Chi Minh City, Vietnam', 'start_index': 924}\n",
      "\n",
      "Document 2:\n",
      "Content: Job Title: Data Engineer Intern\n",
      "        \n",
      "Company Name: OPSWAT\n",
      "        \n",
      "Job Location: Ho Chi Minh City, Vietnam\n",
      "        \n",
      "Time of the job that is posted...\n",
      "Metadata: {'job_title': 'Data Engineer Intern', 'company_name': 'OPSWAT', 'job_location': 'Ho Chi Minh City, Vietnam', 'start_index': 0}\n",
      "\n",
      "Document 3:\n",
      "Content: What You’ll Achieve\n",
      "Work with the team to build big-data oriented applications.\n",
      "Study and develop web applications using modern technology frameworks....\n",
      "Metadata: {'job_title': 'Technical Intern, SLT Data Application Engineer', 'company_name': 'Ampere', 'job_location': 'Ho Chi Minh City Metropolitan Area', 'start_index': 1732}\n",
      "\n",
      "Document 4:\n",
      "Content: Upper-intermediate level of English level\n",
      "Methodical and detail-oriented, with solid analytical skills and problem-solving ability\n",
      "Collaborative minds...\n",
      "Metadata: {'job_title': 'Software Test Engineer Intern (QA/QC/Tester intern), KMS Healthcare', 'company_name': 'KMS Healthcare', 'job_location': 'Ho Chi Minh City, Ho Chi Minh City, Vietnam', 'start_index': 4064}\n",
      "\n",
      "Document 5:\n",
      "Content: A keen interest in AI, machine learning, and related fields.\n",
      "Preferred Skills\n",
      "Proficiency in English, with exceptional listening, speaking, reading sk...\n",
      "Metadata: {'job_title': 'Junior AI Software Engineer', 'company_name': 'AvePoint', 'job_location': 'Hanoi, Hanoi, Vietnam', 'start_index': 1796}\n",
      "\n",
      "Document 6:\n",
      "Content: Qualifications\n",
      "Last year students who majored in computer science, software engineering, or relevant fields\n",
      "Have knowledge and orientation in testing ...\n",
      "Metadata: {'job_title': 'QC Engineer Intern - Work in Da Nang', 'company_name': 'Orient Software Development Corp.', 'job_location': 'Ho Chi Minh City, Ho Chi Minh City, Vietnam', 'start_index': 900}\n",
      "\n",
      "Document 7:\n",
      "Content: Job Title: Technical Intern, SLT Data Application Engineer\n",
      "        \n",
      "Company Name: Ampere\n",
      "        \n",
      "Job Location: Ho Chi Minh City Metropolitan Area\n",
      "   ...\n",
      "Metadata: {'job_title': 'Technical Intern, SLT Data Application Engineer', 'company_name': 'Ampere', 'job_location': 'Ho Chi Minh City Metropolitan Area', 'start_index': 0}\n",
      "\n",
      "Document 8:\n",
      "Content: Job Title: Data Engineer Intern\n",
      "        \n",
      "Company Name: ActiveFence\n",
      "        \n",
      "Job Location: Hanoi, Hanoi, Vietnam\n",
      "        \n",
      "Time of the job that is poste...\n",
      "Metadata: {'job_title': 'Data Engineer Intern', 'company_name': 'ActiveFence', 'job_location': 'Hanoi, Hanoi, Vietnam', 'start_index': 0}\n"
     ]
    }
   ],
   "source": [
    "# Run query with full response\n",
    "result = qa_chain({\"query\": \"Tell me about job openings for Data field\"})\n",
    "print(\"Answer:\", result[\"result\"])\n",
    "print(\"\\nSource documents used:\")\n",
    "for i, doc in enumerate(result[\"source_documents\"]):\n",
    "    print(f\"\\nDocument {i+1}:\")\n",
    "    print(f\"Content: {doc.page_content[:150]}...\")\n",
    "    print(f\"Metadata: {doc.metadata}\")"
   ]
  }
 ],
 "metadata": {
  "colab": {
   "provenance": []
  },
  "kaggle": {
   "accelerator": "nvidiaTeslaT4",
   "dataSources": [],
   "dockerImageVersionId": 30919,
   "isGpuEnabled": true,
   "isInternetEnabled": true,
   "language": "python",
   "sourceType": "notebook"
  },
  "kernelspec": {
   "display_name": "Python 3",
   "language": "python",
   "name": "python3"
  },
  "language_info": {
   "codemirror_mode": {
    "name": "ipython",
    "version": 3
   },
   "file_extension": ".py",
   "mimetype": "text/x-python",
   "name": "python",
   "nbconvert_exporter": "python",
   "pygments_lexer": "ipython3",
   "version": "3.10.12"
  }
 },
 "nbformat": 4,
 "nbformat_minor": 4
}
